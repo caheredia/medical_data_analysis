{
 "cells": [
  {
   "cell_type": "code",
   "execution_count": 2,
   "metadata": {},
   "outputs": [],
   "source": [
    "import altair as alt\n",
    "import pandas as pd"
   ]
  },
  {
   "cell_type": "markdown",
   "metadata": {},
   "source": [
    "# Load Data"
   ]
  },
  {
   "cell_type": "code",
   "execution_count": 3,
   "metadata": {},
   "outputs": [
    {
     "data": {
      "text/html": [
       "<div>\n",
       "<style scoped>\n",
       "    .dataframe tbody tr th:only-of-type {\n",
       "        vertical-align: middle;\n",
       "    }\n",
       "\n",
       "    .dataframe tbody tr th {\n",
       "        vertical-align: top;\n",
       "    }\n",
       "\n",
       "    .dataframe thead th {\n",
       "        text-align: right;\n",
       "    }\n",
       "</style>\n",
       "<table border=\"1\" class=\"dataframe\">\n",
       "  <thead>\n",
       "    <tr style=\"text-align: right;\">\n",
       "      <th></th>\n",
       "      <th>PatientID</th>\n",
       "      <th>AgeNBR</th>\n",
       "      <th>GenderCD</th>\n",
       "      <th>RelationshipDSC</th>\n",
       "      <th>ClinicID</th>\n",
       "      <th>ModalityDSC</th>\n",
       "      <th>VisitsCNT</th>\n",
       "      <th>RiskNBR</th>\n",
       "    </tr>\n",
       "  </thead>\n",
       "  <tbody>\n",
       "    <tr>\n",
       "      <th>0</th>\n",
       "      <td>42534</td>\n",
       "      <td>39</td>\n",
       "      <td>F</td>\n",
       "      <td>Employee</td>\n",
       "      <td>A</td>\n",
       "      <td>Primary</td>\n",
       "      <td>1</td>\n",
       "      <td>NaN</td>\n",
       "    </tr>\n",
       "    <tr>\n",
       "      <th>1</th>\n",
       "      <td>169233</td>\n",
       "      <td>46</td>\n",
       "      <td>F</td>\n",
       "      <td>Dependent</td>\n",
       "      <td>A</td>\n",
       "      <td>Nurse Visit</td>\n",
       "      <td>3</td>\n",
       "      <td>0.165685</td>\n",
       "    </tr>\n",
       "    <tr>\n",
       "      <th>2</th>\n",
       "      <td>42880</td>\n",
       "      <td>59</td>\n",
       "      <td>F</td>\n",
       "      <td>Employee</td>\n",
       "      <td>B</td>\n",
       "      <td>|||Preventive</td>\n",
       "      <td>1</td>\n",
       "      <td>1.133132</td>\n",
       "    </tr>\n",
       "    <tr>\n",
       "      <th>3</th>\n",
       "      <td>118044</td>\n",
       "      <td>36</td>\n",
       "      <td>F</td>\n",
       "      <td>Employee</td>\n",
       "      <td>B</td>\n",
       "      <td>Health Coach</td>\n",
       "      <td>1</td>\n",
       "      <td>0.701008</td>\n",
       "    </tr>\n",
       "    <tr>\n",
       "      <th>4</th>\n",
       "      <td>36774</td>\n",
       "      <td>39</td>\n",
       "      <td>F</td>\n",
       "      <td>Dependent</td>\n",
       "      <td>A</td>\n",
       "      <td>Massage</td>\n",
       "      <td>1</td>\n",
       "      <td>1.221869</td>\n",
       "    </tr>\n",
       "  </tbody>\n",
       "</table>\n",
       "</div>"
      ],
      "text/plain": [
       "   PatientID  AgeNBR GenderCD RelationshipDSC ClinicID    ModalityDSC  \\\n",
       "0      42534      39        F        Employee        A        Primary   \n",
       "1     169233      46        F       Dependent        A    Nurse Visit   \n",
       "2      42880      59        F        Employee        B  |||Preventive   \n",
       "3     118044      36        F        Employee        B   Health Coach   \n",
       "4      36774      39        F       Dependent        A        Massage   \n",
       "\n",
       "   VisitsCNT   RiskNBR  \n",
       "0          1       NaN  \n",
       "1          3  0.165685  \n",
       "2          1  1.133132  \n",
       "3          1  0.701008  \n",
       "4          1  1.221869  "
      ]
     },
     "execution_count": 3,
     "metadata": {},
     "output_type": "execute_result"
    }
   ],
   "source": [
    "df = pd.read_csv('health_data.csv')\n",
    "df.head()"
   ]
  },
  {
   "cell_type": "markdown",
   "metadata": {},
   "source": [
    "## dataset metadata"
   ]
  },
  {
   "cell_type": "code",
   "execution_count": 5,
   "metadata": {},
   "outputs": [
    {
     "data": {
      "text/html": [
       "<div>\n",
       "<style scoped>\n",
       "    .dataframe tbody tr th:only-of-type {\n",
       "        vertical-align: middle;\n",
       "    }\n",
       "\n",
       "    .dataframe tbody tr th {\n",
       "        vertical-align: top;\n",
       "    }\n",
       "\n",
       "    .dataframe thead th {\n",
       "        text-align: right;\n",
       "    }\n",
       "</style>\n",
       "<table border=\"1\" class=\"dataframe\">\n",
       "  <thead>\n",
       "    <tr style=\"text-align: right;\">\n",
       "      <th></th>\n",
       "      <th>PatientID</th>\n",
       "      <th>AgeNBR</th>\n",
       "      <th>VisitsCNT</th>\n",
       "      <th>RiskNBR</th>\n",
       "    </tr>\n",
       "  </thead>\n",
       "  <tbody>\n",
       "    <tr>\n",
       "      <th>count</th>\n",
       "      <td>7273.000000</td>\n",
       "      <td>7273.000000</td>\n",
       "      <td>7273.000000</td>\n",
       "      <td>6937.000000</td>\n",
       "    </tr>\n",
       "    <tr>\n",
       "      <th>mean</th>\n",
       "      <td>102272.129520</td>\n",
       "      <td>58.753609</td>\n",
       "      <td>2.374123</td>\n",
       "      <td>0.989636</td>\n",
       "    </tr>\n",
       "    <tr>\n",
       "      <th>std</th>\n",
       "      <td>58336.218918</td>\n",
       "      <td>23.743300</td>\n",
       "      <td>3.599425</td>\n",
       "      <td>0.988562</td>\n",
       "    </tr>\n",
       "    <tr>\n",
       "      <th>min</th>\n",
       "      <td>85.000000</td>\n",
       "      <td>18.000000</td>\n",
       "      <td>1.000000</td>\n",
       "      <td>0.000072</td>\n",
       "    </tr>\n",
       "    <tr>\n",
       "      <th>25%</th>\n",
       "      <td>51925.000000</td>\n",
       "      <td>38.000000</td>\n",
       "      <td>1.000000</td>\n",
       "      <td>0.285526</td>\n",
       "    </tr>\n",
       "    <tr>\n",
       "      <th>50%</th>\n",
       "      <td>103086.000000</td>\n",
       "      <td>59.000000</td>\n",
       "      <td>1.000000</td>\n",
       "      <td>0.682753</td>\n",
       "    </tr>\n",
       "    <tr>\n",
       "      <th>75%</th>\n",
       "      <td>152914.000000</td>\n",
       "      <td>79.000000</td>\n",
       "      <td>2.000000</td>\n",
       "      <td>1.357584</td>\n",
       "    </tr>\n",
       "    <tr>\n",
       "      <th>max</th>\n",
       "      <td>202870.000000</td>\n",
       "      <td>99.000000</td>\n",
       "      <td>74.000000</td>\n",
       "      <td>9.312341</td>\n",
       "    </tr>\n",
       "  </tbody>\n",
       "</table>\n",
       "</div>"
      ],
      "text/plain": [
       "           PatientID       AgeNBR    VisitsCNT      RiskNBR\n",
       "count    7273.000000  7273.000000  7273.000000  6937.000000\n",
       "mean   102272.129520    58.753609     2.374123     0.989636\n",
       "std     58336.218918    23.743300     3.599425     0.988562\n",
       "min        85.000000    18.000000     1.000000     0.000072\n",
       "25%     51925.000000    38.000000     1.000000     0.285526\n",
       "50%    103086.000000    59.000000     1.000000     0.682753\n",
       "75%    152914.000000    79.000000     2.000000     1.357584\n",
       "max    202870.000000    99.000000    74.000000     9.312341"
      ]
     },
     "execution_count": 5,
     "metadata": {},
     "output_type": "execute_result"
    }
   ],
   "source": [
    "df.describe()"
   ]
  },
  {
   "cell_type": "code",
   "execution_count": 6,
   "metadata": {},
   "outputs": [
    {
     "name": "stdout",
     "output_type": "stream",
     "text": [
      "<class 'pandas.core.frame.DataFrame'>\n",
      "RangeIndex: 7273 entries, 0 to 7272\n",
      "Data columns (total 8 columns):\n",
      "PatientID          7273 non-null int64\n",
      "AgeNBR             7273 non-null int64\n",
      "GenderCD           6688 non-null object\n",
      "RelationshipDSC    7273 non-null object\n",
      "ClinicID           7273 non-null object\n",
      "ModalityDSC        7273 non-null object\n",
      "VisitsCNT          7273 non-null int64\n",
      "RiskNBR            6937 non-null float64\n",
      "dtypes: float64(1), int64(3), object(4)\n",
      "memory usage: 454.7+ KB\n"
     ]
    }
   ],
   "source": [
    "df.info()"
   ]
  },
  {
   "cell_type": "markdown",
   "metadata": {},
   "source": [
    "# Clean up data"
   ]
  },
  {
   "cell_type": "markdown",
   "metadata": {},
   "source": [
    "## clean up values in `ModalityDSC` column by removing `|||` chars"
   ]
  },
  {
   "cell_type": "code",
   "execution_count": 14,
   "metadata": {},
   "outputs": [],
   "source": [
    "df.ModalityDSC = df.ModalityDSC.apply(lambda x: x.replace('|||',''))"
   ]
  },
  {
   "cell_type": "code",
   "execution_count": 15,
   "metadata": {},
   "outputs": [
    {
     "name": "stdout",
     "output_type": "stream",
     "text": [
      "GenderCD unique values: \n",
      "\t\t\t\t F\n",
      "\t\t\t\t M\n",
      "\t\t\t\t nan\n",
      "RelationshipDSC unique values: \n",
      "\t\t\t\t Employee\n",
      "\t\t\t\t Dependent\n",
      "ClinicID unique values: \n",
      "\t\t\t\t A\n",
      "\t\t\t\t B\n",
      "\t\t\t\t C\n",
      "ModalityDSC unique values: \n",
      "\t\t\t\t Primary\n",
      "\t\t\t\t Nurse Visit\n",
      "\t\t\t\t Preventive\n",
      "\t\t\t\t Health Coach\n",
      "\t\t\t\t Massage\n",
      "\t\t\t\t Lab Visit\n",
      "\t\t\t\t Optometry\n",
      "\t\t\t\t Chiropractic\n",
      "\t\t\t\t Acupuncture\n",
      "\t\t\t\t Physical Therapy\n",
      "\t\t\t\t Dental\n",
      "\t\t\t\t Nurse Practitioner\n",
      "\t\t\t\t Dermatology\n",
      "\t\t\t\t Mental Health\n",
      "\t\t\t\t Screening\n",
      "\t\t\t\t Bod Pod\n",
      "\t\t\t\t Psychiatry\n"
     ]
    }
   ],
   "source": [
    "categorical_columns = ['GenderCD', 'RelationshipDSC', 'ClinicID', 'ModalityDSC']\n",
    "\n",
    "for column in categorical_columns:\n",
    "    unique_values = df[column].unique()\n",
    "    print(f\"{column} unique values: \")\n",
    "    for value in unique_values:\n",
    "        print(f'\\t\\t\\t\\t {value}')"
   ]
  },
  {
   "cell_type": "markdown",
   "metadata": {},
   "source": [
    "# Graph data"
   ]
  },
  {
   "cell_type": "code",
   "execution_count": 46,
   "metadata": {},
   "outputs": [
    {
     "data": {
      "text/html": [
       "<div>\n",
       "<style scoped>\n",
       "    .dataframe tbody tr th:only-of-type {\n",
       "        vertical-align: middle;\n",
       "    }\n",
       "\n",
       "    .dataframe tbody tr th {\n",
       "        vertical-align: top;\n",
       "    }\n",
       "\n",
       "    .dataframe thead th {\n",
       "        text-align: right;\n",
       "    }\n",
       "</style>\n",
       "<table border=\"1\" class=\"dataframe\">\n",
       "  <thead>\n",
       "    <tr style=\"text-align: right;\">\n",
       "      <th></th>\n",
       "      <th>ModalityDSC</th>\n",
       "      <th>ClinicID</th>\n",
       "      <th>GenderCD</th>\n",
       "      <th>VisitsCNT</th>\n",
       "    </tr>\n",
       "  </thead>\n",
       "  <tbody>\n",
       "    <tr>\n",
       "      <th>0</th>\n",
       "      <td>Acupuncture</td>\n",
       "      <td>A</td>\n",
       "      <td>F</td>\n",
       "      <td>198</td>\n",
       "    </tr>\n",
       "    <tr>\n",
       "      <th>1</th>\n",
       "      <td>Acupuncture</td>\n",
       "      <td>A</td>\n",
       "      <td>M</td>\n",
       "      <td>190</td>\n",
       "    </tr>\n",
       "    <tr>\n",
       "      <th>2</th>\n",
       "      <td>Acupuncture</td>\n",
       "      <td>B</td>\n",
       "      <td>F</td>\n",
       "      <td>216</td>\n",
       "    </tr>\n",
       "    <tr>\n",
       "      <th>3</th>\n",
       "      <td>Acupuncture</td>\n",
       "      <td>B</td>\n",
       "      <td>M</td>\n",
       "      <td>185</td>\n",
       "    </tr>\n",
       "    <tr>\n",
       "      <th>4</th>\n",
       "      <td>Acupuncture</td>\n",
       "      <td>C</td>\n",
       "      <td>F</td>\n",
       "      <td>228</td>\n",
       "    </tr>\n",
       "  </tbody>\n",
       "</table>\n",
       "</div>"
      ],
      "text/plain": [
       "   ModalityDSC ClinicID GenderCD  VisitsCNT\n",
       "0  Acupuncture        A        F        198\n",
       "1  Acupuncture        A        M        190\n",
       "2  Acupuncture        B        F        216\n",
       "3  Acupuncture        B        M        185\n",
       "4  Acupuncture        C        F        228"
      ]
     },
     "execution_count": 46,
     "metadata": {},
     "output_type": "execute_result"
    }
   ],
   "source": [
    "df_modality_group = df.groupby(['ModalityDSC', 'ClinicID', 'GenderCD'])[['VisitsCNT']].sum().reset_index()\n",
    "df_modality_group.head()"
   ]
  },
  {
   "cell_type": "code",
   "execution_count": 55,
   "metadata": {},
   "outputs": [
    {
     "data": {
      "text/html": [
       "\n",
       "<div id=\"altair-viz-19\"></div>\n",
       "<script type=\"text/javascript\">\n",
       "  (function(spec, embedOpt){\n",
       "    const outputDiv = document.getElementById(\"altair-viz-19\");\n",
       "    const paths = {\n",
       "      \"vega\": \"https://cdn.jsdelivr.net/npm//vega@5?noext\",\n",
       "      \"vega-lib\": \"https://cdn.jsdelivr.net/npm//vega-lib?noext\",\n",
       "      \"vega-lite\": \"https://cdn.jsdelivr.net/npm//vega-lite@4.0.0?noext\",\n",
       "      \"vega-embed\": \"https://cdn.jsdelivr.net/npm//vega-embed@6?noext\",\n",
       "    };\n",
       "\n",
       "    function loadScript(lib) {\n",
       "      return new Promise(function(resolve, reject) {\n",
       "        var s = document.createElement('script');\n",
       "        s.src = paths[lib];\n",
       "        s.async = true;\n",
       "        s.onload = () => resolve(paths[lib]);\n",
       "        s.onerror = () => reject(`Error loading script: ${paths[lib]}`);\n",
       "        document.getElementsByTagName(\"head\")[0].appendChild(s);\n",
       "      });\n",
       "    }\n",
       "\n",
       "    function showError(err) {\n",
       "      outputDiv.innerHTML = `<div class=\"error\" style=\"color:red;\">${err}</div>`;\n",
       "      throw err;\n",
       "    }\n",
       "\n",
       "    function displayChart(vegaEmbed) {\n",
       "      vegaEmbed(outputDiv, spec, embedOpt)\n",
       "        .catch(err => showError(`Javascript Error: ${err.message}<br>This usually means there's a typo in your chart specification. See the javascript console for the full traceback.`));\n",
       "    }\n",
       "\n",
       "    if(typeof define === \"function\" && define.amd) {\n",
       "      requirejs.config({paths});\n",
       "      require([\"vega-embed\"], displayChart, err => showError(`Error loading script: ${err.message}`));\n",
       "    } else if (typeof vegaEmbed === \"function\") {\n",
       "      displayChart(vegaEmbed);\n",
       "    } else {\n",
       "      loadScript(\"vega\")\n",
       "        .then(() => loadScript(\"vega-lite\"))\n",
       "        .then(() => loadScript(\"vega-embed\"))\n",
       "        .catch(showError)\n",
       "        .then(() => displayChart(vegaEmbed));\n",
       "    }\n",
       "  })({\"config\": {\"view\": {\"continuousWidth\": 400, \"continuousHeight\": 300}}, \"vconcat\": [{\"mark\": \"bar\", \"encoding\": {\"color\": {\"condition\": {\"type\": \"nominal\", \"field\": \"ClinicID\", \"selection\": \"selector005\"}, \"value\": \"lightgray\"}, \"tooltip\": [{\"type\": \"nominal\", \"field\": \"ClinicID\"}, {\"type\": \"quantitative\", \"aggregate\": \"sum\", \"field\": \"VisitsCNT\"}], \"x\": {\"type\": \"quantitative\", \"aggregate\": \"sum\", \"field\": \"VisitsCNT\"}, \"y\": {\"type\": \"nominal\", \"field\": \"ModalityDSC\", \"sort\": \"-x\"}}, \"height\": 500, \"selection\": {\"selector005\": {\"type\": \"interval\"}}, \"width\": 800}, {\"mark\": \"bar\", \"encoding\": {\"color\": {\"type\": \"nominal\", \"field\": \"GenderCD\"}, \"x\": {\"type\": \"quantitative\", \"aggregate\": \"count\", \"field\": \"GenderCD\"}, \"y\": {\"type\": \"nominal\", \"field\": \"GenderCD\"}}, \"transform\": [{\"filter\": {\"selection\": \"selector005\"}}]}], \"data\": {\"name\": \"data-fee8bf9494773329ed458d5fff2788a9\"}, \"$schema\": \"https://vega.github.io/schema/vega-lite/v4.0.0.json\", \"datasets\": {\"data-fee8bf9494773329ed458d5fff2788a9\": [{\"ModalityDSC\": \"Acupuncture\", \"ClinicID\": \"A\", \"GenderCD\": \"F\", \"VisitsCNT\": 198}, {\"ModalityDSC\": \"Acupuncture\", \"ClinicID\": \"A\", \"GenderCD\": \"M\", \"VisitsCNT\": 190}, {\"ModalityDSC\": \"Acupuncture\", \"ClinicID\": \"B\", \"GenderCD\": \"F\", \"VisitsCNT\": 216}, {\"ModalityDSC\": \"Acupuncture\", \"ClinicID\": \"B\", \"GenderCD\": \"M\", \"VisitsCNT\": 185}, {\"ModalityDSC\": \"Acupuncture\", \"ClinicID\": \"C\", \"GenderCD\": \"F\", \"VisitsCNT\": 228}, {\"ModalityDSC\": \"Acupuncture\", \"ClinicID\": \"C\", \"GenderCD\": \"M\", \"VisitsCNT\": 146}, {\"ModalityDSC\": \"Bod Pod\", \"ClinicID\": \"A\", \"GenderCD\": \"F\", \"VisitsCNT\": 20}, {\"ModalityDSC\": \"Bod Pod\", \"ClinicID\": \"A\", \"GenderCD\": \"M\", \"VisitsCNT\": 23}, {\"ModalityDSC\": \"Bod Pod\", \"ClinicID\": \"C\", \"GenderCD\": \"F\", \"VisitsCNT\": 9}, {\"ModalityDSC\": \"Bod Pod\", \"ClinicID\": \"C\", \"GenderCD\": \"M\", \"VisitsCNT\": 5}, {\"ModalityDSC\": \"Chiropractic\", \"ClinicID\": \"A\", \"GenderCD\": \"F\", \"VisitsCNT\": 474}, {\"ModalityDSC\": \"Chiropractic\", \"ClinicID\": \"A\", \"GenderCD\": \"M\", \"VisitsCNT\": 647}, {\"ModalityDSC\": \"Chiropractic\", \"ClinicID\": \"B\", \"GenderCD\": \"F\", \"VisitsCNT\": 450}, {\"ModalityDSC\": \"Chiropractic\", \"ClinicID\": \"B\", \"GenderCD\": \"M\", \"VisitsCNT\": 333}, {\"ModalityDSC\": \"Chiropractic\", \"ClinicID\": \"C\", \"GenderCD\": \"F\", \"VisitsCNT\": 551}, {\"ModalityDSC\": \"Chiropractic\", \"ClinicID\": \"C\", \"GenderCD\": \"M\", \"VisitsCNT\": 307}, {\"ModalityDSC\": \"Dental\", \"ClinicID\": \"A\", \"GenderCD\": \"F\", \"VisitsCNT\": 288}, {\"ModalityDSC\": \"Dental\", \"ClinicID\": \"A\", \"GenderCD\": \"M\", \"VisitsCNT\": 174}, {\"ModalityDSC\": \"Dental\", \"ClinicID\": \"C\", \"GenderCD\": \"F\", \"VisitsCNT\": 178}, {\"ModalityDSC\": \"Dental\", \"ClinicID\": \"C\", \"GenderCD\": \"M\", \"VisitsCNT\": 180}, {\"ModalityDSC\": \"Dermatology\", \"ClinicID\": \"A\", \"GenderCD\": \"F\", \"VisitsCNT\": 83}, {\"ModalityDSC\": \"Dermatology\", \"ClinicID\": \"A\", \"GenderCD\": \"M\", \"VisitsCNT\": 78}, {\"ModalityDSC\": \"Dermatology\", \"ClinicID\": \"B\", \"GenderCD\": \"F\", \"VisitsCNT\": 59}, {\"ModalityDSC\": \"Dermatology\", \"ClinicID\": \"B\", \"GenderCD\": \"M\", \"VisitsCNT\": 36}, {\"ModalityDSC\": \"Dermatology\", \"ClinicID\": \"C\", \"GenderCD\": \"F\", \"VisitsCNT\": 37}, {\"ModalityDSC\": \"Dermatology\", \"ClinicID\": \"C\", \"GenderCD\": \"M\", \"VisitsCNT\": 29}, {\"ModalityDSC\": \"Health Coach\", \"ClinicID\": \"A\", \"GenderCD\": \"F\", \"VisitsCNT\": 64}, {\"ModalityDSC\": \"Health Coach\", \"ClinicID\": \"A\", \"GenderCD\": \"M\", \"VisitsCNT\": 60}, {\"ModalityDSC\": \"Health Coach\", \"ClinicID\": \"B\", \"GenderCD\": \"F\", \"VisitsCNT\": 58}, {\"ModalityDSC\": \"Health Coach\", \"ClinicID\": \"B\", \"GenderCD\": \"M\", \"VisitsCNT\": 57}, {\"ModalityDSC\": \"Health Coach\", \"ClinicID\": \"C\", \"GenderCD\": \"F\", \"VisitsCNT\": 99}, {\"ModalityDSC\": \"Health Coach\", \"ClinicID\": \"C\", \"GenderCD\": \"M\", \"VisitsCNT\": 126}, {\"ModalityDSC\": \"Lab Visit\", \"ClinicID\": \"A\", \"GenderCD\": \"F\", \"VisitsCNT\": 68}, {\"ModalityDSC\": \"Lab Visit\", \"ClinicID\": \"A\", \"GenderCD\": \"M\", \"VisitsCNT\": 73}, {\"ModalityDSC\": \"Lab Visit\", \"ClinicID\": \"B\", \"GenderCD\": \"F\", \"VisitsCNT\": 11}, {\"ModalityDSC\": \"Lab Visit\", \"ClinicID\": \"B\", \"GenderCD\": \"M\", \"VisitsCNT\": 9}, {\"ModalityDSC\": \"Lab Visit\", \"ClinicID\": \"C\", \"GenderCD\": \"F\", \"VisitsCNT\": 59}, {\"ModalityDSC\": \"Lab Visit\", \"ClinicID\": \"C\", \"GenderCD\": \"M\", \"VisitsCNT\": 82}, {\"ModalityDSC\": \"Massage\", \"ClinicID\": \"A\", \"GenderCD\": \"F\", \"VisitsCNT\": 184}, {\"ModalityDSC\": \"Massage\", \"ClinicID\": \"A\", \"GenderCD\": \"M\", \"VisitsCNT\": 164}, {\"ModalityDSC\": \"Massage\", \"ClinicID\": \"B\", \"GenderCD\": \"F\", \"VisitsCNT\": 65}, {\"ModalityDSC\": \"Massage\", \"ClinicID\": \"B\", \"GenderCD\": \"M\", \"VisitsCNT\": 123}, {\"ModalityDSC\": \"Massage\", \"ClinicID\": \"C\", \"GenderCD\": \"F\", \"VisitsCNT\": 103}, {\"ModalityDSC\": \"Massage\", \"ClinicID\": \"C\", \"GenderCD\": \"M\", \"VisitsCNT\": 114}, {\"ModalityDSC\": \"Mental Health\", \"ClinicID\": \"A\", \"GenderCD\": \"F\", \"VisitsCNT\": 70}, {\"ModalityDSC\": \"Mental Health\", \"ClinicID\": \"A\", \"GenderCD\": \"M\", \"VisitsCNT\": 35}, {\"ModalityDSC\": \"Mental Health\", \"ClinicID\": \"B\", \"GenderCD\": \"F\", \"VisitsCNT\": 315}, {\"ModalityDSC\": \"Mental Health\", \"ClinicID\": \"B\", \"GenderCD\": \"M\", \"VisitsCNT\": 315}, {\"ModalityDSC\": \"Mental Health\", \"ClinicID\": \"C\", \"GenderCD\": \"F\", \"VisitsCNT\": 125}, {\"ModalityDSC\": \"Mental Health\", \"ClinicID\": \"C\", \"GenderCD\": \"M\", \"VisitsCNT\": 161}, {\"ModalityDSC\": \"Nurse Practitioner\", \"ClinicID\": \"B\", \"GenderCD\": \"F\", \"VisitsCNT\": 29}, {\"ModalityDSC\": \"Nurse Practitioner\", \"ClinicID\": \"B\", \"GenderCD\": \"M\", \"VisitsCNT\": 39}, {\"ModalityDSC\": \"Nurse Practitioner\", \"ClinicID\": \"C\", \"GenderCD\": \"F\", \"VisitsCNT\": 136}, {\"ModalityDSC\": \"Nurse Practitioner\", \"ClinicID\": \"C\", \"GenderCD\": \"M\", \"VisitsCNT\": 130}, {\"ModalityDSC\": \"Nurse Visit\", \"ClinicID\": \"A\", \"GenderCD\": \"F\", \"VisitsCNT\": 172}, {\"ModalityDSC\": \"Nurse Visit\", \"ClinicID\": \"A\", \"GenderCD\": \"M\", \"VisitsCNT\": 122}, {\"ModalityDSC\": \"Nurse Visit\", \"ClinicID\": \"B\", \"GenderCD\": \"F\", \"VisitsCNT\": 60}, {\"ModalityDSC\": \"Nurse Visit\", \"ClinicID\": \"B\", \"GenderCD\": \"M\", \"VisitsCNT\": 45}, {\"ModalityDSC\": \"Nurse Visit\", \"ClinicID\": \"C\", \"GenderCD\": \"F\", \"VisitsCNT\": 249}, {\"ModalityDSC\": \"Nurse Visit\", \"ClinicID\": \"C\", \"GenderCD\": \"M\", \"VisitsCNT\": 243}, {\"ModalityDSC\": \"Optometry\", \"ClinicID\": \"A\", \"GenderCD\": \"F\", \"VisitsCNT\": 165}, {\"ModalityDSC\": \"Optometry\", \"ClinicID\": \"A\", \"GenderCD\": \"M\", \"VisitsCNT\": 166}, {\"ModalityDSC\": \"Optometry\", \"ClinicID\": \"B\", \"GenderCD\": \"F\", \"VisitsCNT\": 125}, {\"ModalityDSC\": \"Optometry\", \"ClinicID\": \"B\", \"GenderCD\": \"M\", \"VisitsCNT\": 135}, {\"ModalityDSC\": \"Optometry\", \"ClinicID\": \"C\", \"GenderCD\": \"F\", \"VisitsCNT\": 92}, {\"ModalityDSC\": \"Optometry\", \"ClinicID\": \"C\", \"GenderCD\": \"M\", \"VisitsCNT\": 88}, {\"ModalityDSC\": \"Physical Therapy\", \"ClinicID\": \"A\", \"GenderCD\": \"F\", \"VisitsCNT\": 515}, {\"ModalityDSC\": \"Physical Therapy\", \"ClinicID\": \"A\", \"GenderCD\": \"M\", \"VisitsCNT\": 352}, {\"ModalityDSC\": \"Physical Therapy\", \"ClinicID\": \"B\", \"GenderCD\": \"F\", \"VisitsCNT\": 276}, {\"ModalityDSC\": \"Physical Therapy\", \"ClinicID\": \"B\", \"GenderCD\": \"M\", \"VisitsCNT\": 236}, {\"ModalityDSC\": \"Physical Therapy\", \"ClinicID\": \"C\", \"GenderCD\": \"F\", \"VisitsCNT\": 481}, {\"ModalityDSC\": \"Physical Therapy\", \"ClinicID\": \"C\", \"GenderCD\": \"M\", \"VisitsCNT\": 405}, {\"ModalityDSC\": \"Preventive\", \"ClinicID\": \"A\", \"GenderCD\": \"F\", \"VisitsCNT\": 203}, {\"ModalityDSC\": \"Preventive\", \"ClinicID\": \"A\", \"GenderCD\": \"M\", \"VisitsCNT\": 179}, {\"ModalityDSC\": \"Preventive\", \"ClinicID\": \"B\", \"GenderCD\": \"F\", \"VisitsCNT\": 171}, {\"ModalityDSC\": \"Preventive\", \"ClinicID\": \"B\", \"GenderCD\": \"M\", \"VisitsCNT\": 186}, {\"ModalityDSC\": \"Preventive\", \"ClinicID\": \"C\", \"GenderCD\": \"F\", \"VisitsCNT\": 206}, {\"ModalityDSC\": \"Preventive\", \"ClinicID\": \"C\", \"GenderCD\": \"M\", \"VisitsCNT\": 224}, {\"ModalityDSC\": \"Primary\", \"ClinicID\": \"A\", \"GenderCD\": \"F\", \"VisitsCNT\": 428}, {\"ModalityDSC\": \"Primary\", \"ClinicID\": \"A\", \"GenderCD\": \"M\", \"VisitsCNT\": 550}, {\"ModalityDSC\": \"Primary\", \"ClinicID\": \"B\", \"GenderCD\": \"F\", \"VisitsCNT\": 436}, {\"ModalityDSC\": \"Primary\", \"ClinicID\": \"B\", \"GenderCD\": \"M\", \"VisitsCNT\": 368}, {\"ModalityDSC\": \"Primary\", \"ClinicID\": \"C\", \"GenderCD\": \"F\", \"VisitsCNT\": 418}, {\"ModalityDSC\": \"Primary\", \"ClinicID\": \"C\", \"GenderCD\": \"M\", \"VisitsCNT\": 478}, {\"ModalityDSC\": \"Psychiatry\", \"ClinicID\": \"B\", \"GenderCD\": \"F\", \"VisitsCNT\": 15}, {\"ModalityDSC\": \"Psychiatry\", \"ClinicID\": \"B\", \"GenderCD\": \"M\", \"VisitsCNT\": 22}, {\"ModalityDSC\": \"Psychiatry\", \"ClinicID\": \"C\", \"GenderCD\": \"F\", \"VisitsCNT\": 4}, {\"ModalityDSC\": \"Screening\", \"ClinicID\": \"B\", \"GenderCD\": \"F\", \"VisitsCNT\": 49}, {\"ModalityDSC\": \"Screening\", \"ClinicID\": \"B\", \"GenderCD\": \"M\", \"VisitsCNT\": 43}, {\"ModalityDSC\": \"Screening\", \"ClinicID\": \"C\", \"GenderCD\": \"F\", \"VisitsCNT\": 31}, {\"ModalityDSC\": \"Screening\", \"ClinicID\": \"C\", \"GenderCD\": \"M\", \"VisitsCNT\": 34}]}}, {\"mode\": \"vega-lite\"});\n",
       "</script>"
      ],
      "text/plain": [
       "alt.VConcatChart(...)"
      ]
     },
     "execution_count": 55,
     "metadata": {},
     "output_type": "execute_result"
    }
   ],
   "source": [
    "\n",
    "brush = alt.selection(type='interval')\n",
    "\n",
    "visits = alt.Chart(df_modality_group).mark_bar().encode(\n",
    "    x='sum(VisitsCNT):Q',\n",
    "    y=alt.Y('ModalityDSC:N', sort='-x'),\n",
    "    color=alt.condition(brush, 'ClinicID:N', alt.value('lightgray')),\n",
    "    tooltip = ['ClinicID','sum(VisitsCNT):Q']\n",
    ").properties(\n",
    "    width=800,\n",
    "    height=500).add_selection(\n",
    "    brush\n",
    ")\n",
    "\n",
    "bars = alt.Chart(df_modality_group).mark_bar().encode(\n",
    "    y='GenderCD:N',\n",
    "    color='GenderCD:N',\n",
    "    x='count(GenderCD):Q'\n",
    ").transform_filter(\n",
    "    brush\n",
    ")\n",
    "\n",
    "visits & bars"
   ]
  },
  {
   "cell_type": "code",
   "execution_count": null,
   "metadata": {},
   "outputs": [],
   "source": []
  },
  {
   "cell_type": "code",
   "execution_count": null,
   "metadata": {},
   "outputs": [],
   "source": []
  }
 ],
 "metadata": {
  "kernelspec": {
   "display_name": "Python 3",
   "language": "python",
   "name": "python3"
  },
  "language_info": {
   "codemirror_mode": {
    "name": "ipython",
    "version": 3
   },
   "file_extension": ".py",
   "mimetype": "text/x-python",
   "name": "python",
   "nbconvert_exporter": "python",
   "pygments_lexer": "ipython3",
   "version": "3.7.3"
  }
 },
 "nbformat": 4,
 "nbformat_minor": 4
}
