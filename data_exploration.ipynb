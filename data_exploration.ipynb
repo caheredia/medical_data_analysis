{
 "cells": [
  {
   "cell_type": "code",
   "execution_count": 31,
   "metadata": {},
   "outputs": [],
   "source": [
    "import altair as alt\n",
    "import pandas as pd\n",
    "from helpers import RAW_DATA, TRANSFORMED_DATA, find_csv_files"
   ]
  },
  {
   "cell_type": "markdown",
   "metadata": {},
   "source": [
    "# Table of contents\n",
    "1. [Introduction](#introduction)\n",
    "2. [Some paragraph](#paragraph1)\n",
    "    1. [Sub paragraph](#subparagraph1)\n",
    "3. [Another paragraph](#paragraph2)\n",
    "\n",
    "## This is the introduction <a name=\"introduction\"></a>\n",
    "Some introduction text, formatted in heading 2 style\n",
    "\n",
    "## Some paragraph <a name=\"paragraph1\"></a>\n",
    "The first paragraph text\n",
    "\n",
    "### Sub paragraph <a name=\"subparagraph1\"></a>\n",
    "This is a sub paragraph, formatted in heading 3 style\n",
    "\n",
    "## Another paragraph <a name=\"paragraph2\"></a>\n",
    "The second paragraph text"
   ]
  },
  {
   "cell_type": "markdown",
   "metadata": {},
   "source": [
    "# TODO \n",
    "- Convert columns to categorical \n",
    "- Compare time/size for csv and parquet and partquet gzipped files "
   ]
  },
  {
   "cell_type": "markdown",
   "metadata": {},
   "source": [
    "# Load Data"
   ]
  },
  {
   "cell_type": "code",
   "execution_count": 36,
   "metadata": {},
   "outputs": [],
   "source": [
    "# fetch files \n",
    "files = find_csv_files(RAW_DATA)"
   ]
  },
  {
   "cell_type": "code",
   "execution_count": 38,
   "metadata": {},
   "outputs": [
    {
     "data": {
      "text/html": [
       "<div>\n",
       "<style scoped>\n",
       "    .dataframe tbody tr th:only-of-type {\n",
       "        vertical-align: middle;\n",
       "    }\n",
       "\n",
       "    .dataframe tbody tr th {\n",
       "        vertical-align: top;\n",
       "    }\n",
       "\n",
       "    .dataframe thead th {\n",
       "        text-align: right;\n",
       "    }\n",
       "</style>\n",
       "<table border=\"1\" class=\"dataframe\">\n",
       "  <thead>\n",
       "    <tr style=\"text-align: right;\">\n",
       "      <th></th>\n",
       "      <th>PatientID</th>\n",
       "      <th>AgeNBR</th>\n",
       "      <th>GenderCD</th>\n",
       "      <th>RelationshipDSC</th>\n",
       "      <th>ClinicID</th>\n",
       "      <th>ModalityDSC</th>\n",
       "      <th>VisitsCNT</th>\n",
       "      <th>RiskNBR</th>\n",
       "    </tr>\n",
       "  </thead>\n",
       "  <tbody>\n",
       "    <tr>\n",
       "      <th>0</th>\n",
       "      <td>42534</td>\n",
       "      <td>39</td>\n",
       "      <td>F</td>\n",
       "      <td>Employee</td>\n",
       "      <td>A</td>\n",
       "      <td>Primary</td>\n",
       "      <td>1</td>\n",
       "      <td>NaN</td>\n",
       "    </tr>\n",
       "    <tr>\n",
       "      <th>1</th>\n",
       "      <td>169233</td>\n",
       "      <td>46</td>\n",
       "      <td>F</td>\n",
       "      <td>Dependent</td>\n",
       "      <td>A</td>\n",
       "      <td>Nurse Visit</td>\n",
       "      <td>3</td>\n",
       "      <td>0.165685</td>\n",
       "    </tr>\n",
       "    <tr>\n",
       "      <th>2</th>\n",
       "      <td>42880</td>\n",
       "      <td>59</td>\n",
       "      <td>F</td>\n",
       "      <td>Employee</td>\n",
       "      <td>B</td>\n",
       "      <td>|||Preventive</td>\n",
       "      <td>1</td>\n",
       "      <td>1.133132</td>\n",
       "    </tr>\n",
       "    <tr>\n",
       "      <th>3</th>\n",
       "      <td>118044</td>\n",
       "      <td>36</td>\n",
       "      <td>F</td>\n",
       "      <td>Employee</td>\n",
       "      <td>B</td>\n",
       "      <td>Health Coach</td>\n",
       "      <td>1</td>\n",
       "      <td>0.701008</td>\n",
       "    </tr>\n",
       "    <tr>\n",
       "      <th>4</th>\n",
       "      <td>36774</td>\n",
       "      <td>39</td>\n",
       "      <td>F</td>\n",
       "      <td>Dependent</td>\n",
       "      <td>A</td>\n",
       "      <td>Massage</td>\n",
       "      <td>1</td>\n",
       "      <td>1.221869</td>\n",
       "    </tr>\n",
       "  </tbody>\n",
       "</table>\n",
       "</div>"
      ],
      "text/plain": [
       "   PatientID  AgeNBR GenderCD RelationshipDSC ClinicID    ModalityDSC  \\\n",
       "0      42534      39        F        Employee        A        Primary   \n",
       "1     169233      46        F       Dependent        A    Nurse Visit   \n",
       "2      42880      59        F        Employee        B  |||Preventive   \n",
       "3     118044      36        F        Employee        B   Health Coach   \n",
       "4      36774      39        F       Dependent        A        Massage   \n",
       "\n",
       "   VisitsCNT   RiskNBR  \n",
       "0          1       NaN  \n",
       "1          3  0.165685  \n",
       "2          1  1.133132  \n",
       "3          1  0.701008  \n",
       "4          1  1.221869  "
      ]
     },
     "execution_count": 38,
     "metadata": {},
     "output_type": "execute_result"
    }
   ],
   "source": [
    "# load files \n",
    "df = pd.DataFrame()\n",
    "for file in files:\n",
    "    temp_df = pd.read_csv(file)\n",
    "    df = pd.concat([df,temp_df], ignore_index=True)\n",
    "df.head()"
   ]
  },
  {
   "cell_type": "markdown",
   "metadata": {},
   "source": [
    "## dataset metadata"
   ]
  },
  {
   "cell_type": "code",
   "execution_count": 17,
   "metadata": {},
   "outputs": [
    {
     "data": {
      "text/html": [
       "<div>\n",
       "<style scoped>\n",
       "    .dataframe tbody tr th:only-of-type {\n",
       "        vertical-align: middle;\n",
       "    }\n",
       "\n",
       "    .dataframe tbody tr th {\n",
       "        vertical-align: top;\n",
       "    }\n",
       "\n",
       "    .dataframe thead th {\n",
       "        text-align: right;\n",
       "    }\n",
       "</style>\n",
       "<table border=\"1\" class=\"dataframe\">\n",
       "  <thead>\n",
       "    <tr style=\"text-align: right;\">\n",
       "      <th></th>\n",
       "      <th>PatientID</th>\n",
       "      <th>AgeNBR</th>\n",
       "      <th>VisitsCNT</th>\n",
       "      <th>RiskNBR</th>\n",
       "    </tr>\n",
       "  </thead>\n",
       "  <tbody>\n",
       "    <tr>\n",
       "      <th>count</th>\n",
       "      <td>7273.000000</td>\n",
       "      <td>7273.000000</td>\n",
       "      <td>7273.000000</td>\n",
       "      <td>6937.000000</td>\n",
       "    </tr>\n",
       "    <tr>\n",
       "      <th>mean</th>\n",
       "      <td>102272.129520</td>\n",
       "      <td>58.753609</td>\n",
       "      <td>2.374123</td>\n",
       "      <td>0.989636</td>\n",
       "    </tr>\n",
       "    <tr>\n",
       "      <th>std</th>\n",
       "      <td>58336.218918</td>\n",
       "      <td>23.743300</td>\n",
       "      <td>3.599425</td>\n",
       "      <td>0.988562</td>\n",
       "    </tr>\n",
       "    <tr>\n",
       "      <th>min</th>\n",
       "      <td>85.000000</td>\n",
       "      <td>18.000000</td>\n",
       "      <td>1.000000</td>\n",
       "      <td>0.000072</td>\n",
       "    </tr>\n",
       "    <tr>\n",
       "      <th>25%</th>\n",
       "      <td>51925.000000</td>\n",
       "      <td>38.000000</td>\n",
       "      <td>1.000000</td>\n",
       "      <td>0.285526</td>\n",
       "    </tr>\n",
       "    <tr>\n",
       "      <th>50%</th>\n",
       "      <td>103086.000000</td>\n",
       "      <td>59.000000</td>\n",
       "      <td>1.000000</td>\n",
       "      <td>0.682753</td>\n",
       "    </tr>\n",
       "    <tr>\n",
       "      <th>75%</th>\n",
       "      <td>152914.000000</td>\n",
       "      <td>79.000000</td>\n",
       "      <td>2.000000</td>\n",
       "      <td>1.357584</td>\n",
       "    </tr>\n",
       "    <tr>\n",
       "      <th>max</th>\n",
       "      <td>202870.000000</td>\n",
       "      <td>99.000000</td>\n",
       "      <td>74.000000</td>\n",
       "      <td>9.312341</td>\n",
       "    </tr>\n",
       "  </tbody>\n",
       "</table>\n",
       "</div>"
      ],
      "text/plain": [
       "           PatientID       AgeNBR    VisitsCNT      RiskNBR\n",
       "count    7273.000000  7273.000000  7273.000000  6937.000000\n",
       "mean   102272.129520    58.753609     2.374123     0.989636\n",
       "std     58336.218918    23.743300     3.599425     0.988562\n",
       "min        85.000000    18.000000     1.000000     0.000072\n",
       "25%     51925.000000    38.000000     1.000000     0.285526\n",
       "50%    103086.000000    59.000000     1.000000     0.682753\n",
       "75%    152914.000000    79.000000     2.000000     1.357584\n",
       "max    202870.000000    99.000000    74.000000     9.312341"
      ]
     },
     "execution_count": 17,
     "metadata": {},
     "output_type": "execute_result"
    }
   ],
   "source": [
    "df.describe()"
   ]
  },
  {
   "cell_type": "code",
   "execution_count": 18,
   "metadata": {},
   "outputs": [
    {
     "name": "stdout",
     "output_type": "stream",
     "text": [
      "<class 'pandas.core.frame.DataFrame'>\n",
      "RangeIndex: 7273 entries, 0 to 7272\n",
      "Data columns (total 8 columns):\n",
      "PatientID          7273 non-null int64\n",
      "AgeNBR             7273 non-null int64\n",
      "GenderCD           6688 non-null object\n",
      "RelationshipDSC    7273 non-null object\n",
      "ClinicID           7273 non-null object\n",
      "ModalityDSC        7273 non-null object\n",
      "VisitsCNT          7273 non-null int64\n",
      "RiskNBR            6937 non-null float64\n",
      "dtypes: float64(1), int64(3), object(4)\n",
      "memory usage: 454.7+ KB\n"
     ]
    }
   ],
   "source": [
    "df.info()"
   ]
  },
  {
   "cell_type": "markdown",
   "metadata": {},
   "source": [
    "# Clean up data"
   ]
  },
  {
   "cell_type": "markdown",
   "metadata": {},
   "source": [
    "## clean up values in `ModalityDSC` column by removing `|||` chars"
   ]
  },
  {
   "cell_type": "code",
   "execution_count": 19,
   "metadata": {},
   "outputs": [],
   "source": [
    "df.ModalityDSC = df.ModalityDSC.apply(lambda x: x.replace('|||',''))"
   ]
  },
  {
   "cell_type": "code",
   "execution_count": 21,
   "metadata": {},
   "outputs": [
    {
     "name": "stdout",
     "output_type": "stream",
     "text": [
      "GenderCD unique values: \n",
      "\t\t\t\t F\n",
      "\t\t\t\t M\n",
      "\t\t\t\t nan\n",
      "RelationshipDSC unique values: \n",
      "\t\t\t\t Employee\n",
      "\t\t\t\t Dependent\n",
      "ClinicID unique values: \n",
      "\t\t\t\t A\n",
      "\t\t\t\t B\n",
      "\t\t\t\t C\n",
      "ModalityDSC unique values: \n",
      "\t\t\t\t Primary\n",
      "\t\t\t\t Nurse Visit\n",
      "\t\t\t\t Preventive\n",
      "\t\t\t\t Health Coach\n",
      "\t\t\t\t Massage\n",
      "\t\t\t\t Lab Visit\n",
      "\t\t\t\t Optometry\n",
      "\t\t\t\t Chiropractic\n",
      "\t\t\t\t Acupuncture\n",
      "\t\t\t\t Physical Therapy\n",
      "\t\t\t\t Dental\n",
      "\t\t\t\t Nurse Practitioner\n",
      "\t\t\t\t Dermatology\n",
      "\t\t\t\t Mental Health\n",
      "\t\t\t\t Screening\n",
      "\t\t\t\t Bod Pod\n",
      "\t\t\t\t Psychiatry\n"
     ]
    }
   ],
   "source": [
    "categorical_columns = ['GenderCD', 'RelationshipDSC', 'ClinicID', 'ModalityDSC']\n",
    "\n",
    "for column in categorical_columns:\n",
    "    # set columns as category type \n",
    "    df[column] = df[column].astype('category')\n",
    "    unique_values = df[column].unique()\n",
    "    print(f\"{column} unique values: \")\n",
    "    for value in unique_values:\n",
    "        print(f'\\t\\t\\t\\t {value}')"
   ]
  },
  {
   "cell_type": "markdown",
   "metadata": {},
   "source": [
    "# Save Data "
   ]
  },
  {
   "cell_type": "code",
   "execution_count": 29,
   "metadata": {},
   "outputs": [],
   "source": [
    "df.to_parquet(TRANSFORMED_DATA + 'cleaned_up_health.parquet.gzip', compression = 'gzip')"
   ]
  },
  {
   "cell_type": "markdown",
   "metadata": {},
   "source": [
    "# Graph data"
   ]
  },
  {
   "cell_type": "code",
   "execution_count": 24,
   "metadata": {},
   "outputs": [
    {
     "data": {
      "text/html": [
       "<div>\n",
       "<style scoped>\n",
       "    .dataframe tbody tr th:only-of-type {\n",
       "        vertical-align: middle;\n",
       "    }\n",
       "\n",
       "    .dataframe tbody tr th {\n",
       "        vertical-align: top;\n",
       "    }\n",
       "\n",
       "    .dataframe thead th {\n",
       "        text-align: right;\n",
       "    }\n",
       "</style>\n",
       "<table border=\"1\" class=\"dataframe\">\n",
       "  <thead>\n",
       "    <tr style=\"text-align: right;\">\n",
       "      <th></th>\n",
       "      <th>ModalityDSC</th>\n",
       "      <th>ClinicID</th>\n",
       "      <th>VisitsCNT</th>\n",
       "    </tr>\n",
       "  </thead>\n",
       "  <tbody>\n",
       "    <tr>\n",
       "      <th>0</th>\n",
       "      <td>Acupuncture</td>\n",
       "      <td>A</td>\n",
       "      <td>411.0</td>\n",
       "    </tr>\n",
       "    <tr>\n",
       "      <th>1</th>\n",
       "      <td>Acupuncture</td>\n",
       "      <td>B</td>\n",
       "      <td>421.0</td>\n",
       "    </tr>\n",
       "    <tr>\n",
       "      <th>2</th>\n",
       "      <td>Acupuncture</td>\n",
       "      <td>C</td>\n",
       "      <td>408.0</td>\n",
       "    </tr>\n",
       "    <tr>\n",
       "      <th>3</th>\n",
       "      <td>Bod Pod</td>\n",
       "      <td>A</td>\n",
       "      <td>50.0</td>\n",
       "    </tr>\n",
       "    <tr>\n",
       "      <th>4</th>\n",
       "      <td>Bod Pod</td>\n",
       "      <td>B</td>\n",
       "      <td>NaN</td>\n",
       "    </tr>\n",
       "  </tbody>\n",
       "</table>\n",
       "</div>"
      ],
      "text/plain": [
       "   ModalityDSC ClinicID  VisitsCNT\n",
       "0  Acupuncture        A      411.0\n",
       "1  Acupuncture        B      421.0\n",
       "2  Acupuncture        C      408.0\n",
       "3      Bod Pod        A       50.0\n",
       "4      Bod Pod        B        NaN"
      ]
     },
     "execution_count": 24,
     "metadata": {},
     "output_type": "execute_result"
    }
   ],
   "source": [
    "df_modality_group = df.groupby(['ModalityDSC', 'ClinicID'])[['VisitsCNT']].sum().reset_index()\n",
    "df_modality_group.head()"
   ]
  },
  {
   "cell_type": "code",
   "execution_count": 25,
   "metadata": {
    "scrolled": true
   },
   "outputs": [
    {
     "data": {
      "text/html": [
       "\n",
       "<div id=\"altair-viz-1\"></div>\n",
       "<script type=\"text/javascript\">\n",
       "  (function(spec, embedOpt){\n",
       "    const outputDiv = document.getElementById(\"altair-viz-1\");\n",
       "    const paths = {\n",
       "      \"vega\": \"https://cdn.jsdelivr.net/npm//vega@5?noext\",\n",
       "      \"vega-lib\": \"https://cdn.jsdelivr.net/npm//vega-lib?noext\",\n",
       "      \"vega-lite\": \"https://cdn.jsdelivr.net/npm//vega-lite@4.0.0?noext\",\n",
       "      \"vega-embed\": \"https://cdn.jsdelivr.net/npm//vega-embed@6?noext\",\n",
       "    };\n",
       "\n",
       "    function loadScript(lib) {\n",
       "      return new Promise(function(resolve, reject) {\n",
       "        var s = document.createElement('script');\n",
       "        s.src = paths[lib];\n",
       "        s.async = true;\n",
       "        s.onload = () => resolve(paths[lib]);\n",
       "        s.onerror = () => reject(`Error loading script: ${paths[lib]}`);\n",
       "        document.getElementsByTagName(\"head\")[0].appendChild(s);\n",
       "      });\n",
       "    }\n",
       "\n",
       "    function showError(err) {\n",
       "      outputDiv.innerHTML = `<div class=\"error\" style=\"color:red;\">${err}</div>`;\n",
       "      throw err;\n",
       "    }\n",
       "\n",
       "    function displayChart(vegaEmbed) {\n",
       "      vegaEmbed(outputDiv, spec, embedOpt)\n",
       "        .catch(err => showError(`Javascript Error: ${err.message}<br>This usually means there's a typo in your chart specification. See the javascript console for the full traceback.`));\n",
       "    }\n",
       "\n",
       "    if(typeof define === \"function\" && define.amd) {\n",
       "      requirejs.config({paths});\n",
       "      require([\"vega-embed\"], displayChart, err => showError(`Error loading script: ${err.message}`));\n",
       "    } else if (typeof vegaEmbed === \"function\") {\n",
       "      displayChart(vegaEmbed);\n",
       "    } else {\n",
       "      loadScript(\"vega\")\n",
       "        .then(() => loadScript(\"vega-lite\"))\n",
       "        .then(() => loadScript(\"vega-embed\"))\n",
       "        .catch(showError)\n",
       "        .then(() => displayChart(vegaEmbed));\n",
       "    }\n",
       "  })({\"config\": {\"view\": {\"continuousWidth\": 400, \"continuousHeight\": 300}}, \"data\": {\"name\": \"data-dfa2eaacb4b1e1e3e6c9f88cd405679b\"}, \"mark\": \"bar\", \"encoding\": {\"color\": {\"type\": \"nominal\", \"field\": \"ClinicID\"}, \"tooltip\": [{\"type\": \"nominal\", \"field\": \"ClinicID\"}, {\"type\": \"quantitative\", \"aggregate\": \"sum\", \"field\": \"VisitsCNT\"}], \"x\": {\"type\": \"quantitative\", \"aggregate\": \"sum\", \"field\": \"VisitsCNT\"}, \"y\": {\"type\": \"nominal\", \"field\": \"ModalityDSC\", \"sort\": \"-x\"}}, \"height\": 500, \"width\": 700, \"$schema\": \"https://vega.github.io/schema/vega-lite/v4.0.0.json\", \"datasets\": {\"data-dfa2eaacb4b1e1e3e6c9f88cd405679b\": [{\"ModalityDSC\": \"Acupuncture\", \"ClinicID\": \"A\", \"VisitsCNT\": 411.0}, {\"ModalityDSC\": \"Acupuncture\", \"ClinicID\": \"B\", \"VisitsCNT\": 421.0}, {\"ModalityDSC\": \"Acupuncture\", \"ClinicID\": \"C\", \"VisitsCNT\": 408.0}, {\"ModalityDSC\": \"Bod Pod\", \"ClinicID\": \"A\", \"VisitsCNT\": 50.0}, {\"ModalityDSC\": \"Bod Pod\", \"ClinicID\": \"B\", \"VisitsCNT\": null}, {\"ModalityDSC\": \"Bod Pod\", \"ClinicID\": \"C\", \"VisitsCNT\": 15.0}, {\"ModalityDSC\": \"Chiropractic\", \"ClinicID\": \"A\", \"VisitsCNT\": 1221.0}, {\"ModalityDSC\": \"Chiropractic\", \"ClinicID\": \"B\", \"VisitsCNT\": 845.0}, {\"ModalityDSC\": \"Chiropractic\", \"ClinicID\": \"C\", \"VisitsCNT\": 904.0}, {\"ModalityDSC\": \"Dental\", \"ClinicID\": \"A\", \"VisitsCNT\": 508.0}, {\"ModalityDSC\": \"Dental\", \"ClinicID\": \"B\", \"VisitsCNT\": null}, {\"ModalityDSC\": \"Dental\", \"ClinicID\": \"C\", \"VisitsCNT\": 382.0}, {\"ModalityDSC\": \"Dermatology\", \"ClinicID\": \"A\", \"VisitsCNT\": 172.0}, {\"ModalityDSC\": \"Dermatology\", \"ClinicID\": \"B\", \"VisitsCNT\": 97.0}, {\"ModalityDSC\": \"Dermatology\", \"ClinicID\": \"C\", \"VisitsCNT\": 78.0}, {\"ModalityDSC\": \"Health Coach\", \"ClinicID\": \"A\", \"VisitsCNT\": 131.0}, {\"ModalityDSC\": \"Health Coach\", \"ClinicID\": \"B\", \"VisitsCNT\": 129.0}, {\"ModalityDSC\": \"Health Coach\", \"ClinicID\": \"C\", \"VisitsCNT\": 234.0}, {\"ModalityDSC\": \"Lab Visit\", \"ClinicID\": \"A\", \"VisitsCNT\": 153.0}, {\"ModalityDSC\": \"Lab Visit\", \"ClinicID\": \"B\", \"VisitsCNT\": 24.0}, {\"ModalityDSC\": \"Lab Visit\", \"ClinicID\": \"C\", \"VisitsCNT\": 147.0}, {\"ModalityDSC\": \"Massage\", \"ClinicID\": \"A\", \"VisitsCNT\": 360.0}, {\"ModalityDSC\": \"Massage\", \"ClinicID\": \"B\", \"VisitsCNT\": 195.0}, {\"ModalityDSC\": \"Massage\", \"ClinicID\": \"C\", \"VisitsCNT\": 231.0}, {\"ModalityDSC\": \"Mental Health\", \"ClinicID\": \"A\", \"VisitsCNT\": 130.0}, {\"ModalityDSC\": \"Mental Health\", \"ClinicID\": \"B\", \"VisitsCNT\": 686.0}, {\"ModalityDSC\": \"Mental Health\", \"ClinicID\": \"C\", \"VisitsCNT\": 293.0}, {\"ModalityDSC\": \"Nurse Practitioner\", \"ClinicID\": \"A\", \"VisitsCNT\": null}, {\"ModalityDSC\": \"Nurse Practitioner\", \"ClinicID\": \"B\", \"VisitsCNT\": 71.0}, {\"ModalityDSC\": \"Nurse Practitioner\", \"ClinicID\": \"C\", \"VisitsCNT\": 296.0}, {\"ModalityDSC\": \"Nurse Visit\", \"ClinicID\": \"A\", \"VisitsCNT\": 316.0}, {\"ModalityDSC\": \"Nurse Visit\", \"ClinicID\": \"B\", \"VisitsCNT\": 120.0}, {\"ModalityDSC\": \"Nurse Visit\", \"ClinicID\": \"C\", \"VisitsCNT\": 534.0}, {\"ModalityDSC\": \"Optometry\", \"ClinicID\": \"A\", \"VisitsCNT\": 360.0}, {\"ModalityDSC\": \"Optometry\", \"ClinicID\": \"B\", \"VisitsCNT\": 284.0}, {\"ModalityDSC\": \"Optometry\", \"ClinicID\": \"C\", \"VisitsCNT\": 201.0}, {\"ModalityDSC\": \"Physical Therapy\", \"ClinicID\": \"A\", \"VisitsCNT\": 952.0}, {\"ModalityDSC\": \"Physical Therapy\", \"ClinicID\": \"B\", \"VisitsCNT\": 549.0}, {\"ModalityDSC\": \"Physical Therapy\", \"ClinicID\": \"C\", \"VisitsCNT\": 965.0}, {\"ModalityDSC\": \"Preventive\", \"ClinicID\": \"A\", \"VisitsCNT\": 415.0}, {\"ModalityDSC\": \"Preventive\", \"ClinicID\": \"B\", \"VisitsCNT\": 391.0}, {\"ModalityDSC\": \"Preventive\", \"ClinicID\": \"C\", \"VisitsCNT\": 472.0}, {\"ModalityDSC\": \"Primary\", \"ClinicID\": \"A\", \"VisitsCNT\": 1067.0}, {\"ModalityDSC\": \"Primary\", \"ClinicID\": \"B\", \"VisitsCNT\": 876.0}, {\"ModalityDSC\": \"Primary\", \"ClinicID\": \"C\", \"VisitsCNT\": 968.0}, {\"ModalityDSC\": \"Psychiatry\", \"ClinicID\": \"A\", \"VisitsCNT\": null}, {\"ModalityDSC\": \"Psychiatry\", \"ClinicID\": \"B\", \"VisitsCNT\": 37.0}, {\"ModalityDSC\": \"Psychiatry\", \"ClinicID\": \"C\", \"VisitsCNT\": 4.0}, {\"ModalityDSC\": \"Screening\", \"ClinicID\": \"A\", \"VisitsCNT\": null}, {\"ModalityDSC\": \"Screening\", \"ClinicID\": \"B\", \"VisitsCNT\": 97.0}, {\"ModalityDSC\": \"Screening\", \"ClinicID\": \"C\", \"VisitsCNT\": 67.0}]}}, {\"mode\": \"vega-lite\"});\n",
       "</script>"
      ],
      "text/plain": [
       "alt.Chart(...)"
      ]
     },
     "execution_count": 25,
     "metadata": {},
     "output_type": "execute_result"
    }
   ],
   "source": [
    "visits = (\n",
    "    alt.Chart(df_modality_group)\n",
    "    .mark_bar()\n",
    "    .encode(\n",
    "        x=\"sum(VisitsCNT):Q\",\n",
    "        y=alt.Y(\"ModalityDSC:N\", sort=\"-x\"),\n",
    "        color=\"ClinicID:N\",\n",
    "        tooltip=[\"ClinicID\", \"sum(VisitsCNT):Q\"],\n",
    "    )\n",
    "    .properties(width=700, height=500)\n",
    ")\n",
    "visits"
   ]
  },
  {
   "cell_type": "code",
   "execution_count": null,
   "metadata": {},
   "outputs": [],
   "source": [
    "visits.save('figures/visits.html')"
   ]
  },
  {
   "cell_type": "markdown",
   "metadata": {},
   "source": [
    "# Explore Risk "
   ]
  },
  {
   "cell_type": "code",
   "execution_count": null,
   "metadata": {},
   "outputs": [],
   "source": [
    "df.head()"
   ]
  },
  {
   "cell_type": "code",
   "execution_count": null,
   "metadata": {},
   "outputs": [],
   "source": [
    "alt.Chart(df[0:5000]).mark_area().encode(\n",
    "    x='AgeNBR:O',\n",
    "    y=alt.Y(\n",
    "        'sum(VisitsCNT):Q',\n",
    "        title='Number of Visits',\n",
    "        axis=alt.Axis(format='~s')\n",
    "    ),\n",
    "    facet=alt.Facet('ClinicID:N', columns=3),\n",
    ").properties(\n",
    "    title='Number of visitors by Age and Clinic',\n",
    "    width=200,\n",
    "    height=80\n",
    ")"
   ]
  },
  {
   "cell_type": "code",
   "execution_count": null,
   "metadata": {},
   "outputs": [],
   "source": [
    "risk = (\n",
    "    alt.Chart(df[0:5000])\n",
    "    .transform_density(\n",
    "        \"RiskNBR\", groupby=[\"ModalityDSC\"], as_=[\"RiskNBR\", \"density\"], extent=[0, 8],\n",
    "    )\n",
    "    .mark_area()\n",
    "    .encode(x=\"RiskNBR:Q\", y=\"density:Q\",)\n",
    "    .properties(title=\"Number of visitors by Age and Clinic\", width=200, height=80)\n",
    "    .facet(\"ModalityDSC:N\", columns=3)\n",
    ")\n",
    "risk"
   ]
  },
  {
   "cell_type": "code",
   "execution_count": null,
   "metadata": {},
   "outputs": [],
   "source": [
    "risk = (\n",
    "    alt.Chart(df[0:5000])\n",
    "    .transform_density(\n",
    "        \"AgeNBR\", groupby=[\"ModalityDSC\"], as_=[\"AgeNBR\", \"density\"], extent=[0, 99],\n",
    "    )\n",
    "    .mark_area()\n",
    "    .encode(x=\"AgeNBR:O\", y=\"density:Q\",)\n",
    "    .properties(title=\"Number of visitors by Age and Clinic\", width=200, height=80)\n",
    "    .facet(\"ModalityDSC:N\", columns=3)\n",
    ")\n",
    "risk"
   ]
  },
  {
   "cell_type": "markdown",
   "metadata": {},
   "source": [
    "Need a histogram of risk versus Age per modality "
   ]
  },
  {
   "cell_type": "code",
   "execution_count": null,
   "metadata": {},
   "outputs": [],
   "source": []
  }
 ],
 "metadata": {
  "kernelspec": {
   "display_name": "Python 3",
   "language": "python",
   "name": "python3"
  },
  "language_info": {
   "codemirror_mode": {
    "name": "ipython",
    "version": 3
   },
   "file_extension": ".py",
   "mimetype": "text/x-python",
   "name": "python",
   "nbconvert_exporter": "python",
   "pygments_lexer": "ipython3",
   "version": "3.7.3"
  }
 },
 "nbformat": 4,
 "nbformat_minor": 4
}
